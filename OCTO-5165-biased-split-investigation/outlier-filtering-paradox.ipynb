{
 "cells": [
  {
   "cell_type": "code",
   "execution_count": 1,
   "metadata": {},
   "outputs": [
    {
     "data": {
      "text/html": [
       "<style>\n",
       "  table {margin-left: 0 !important;}\n",
       "  th {font-size: 15px}\n",
       "  td {font-size: 15px}\n",
       "</style>\n"
      ],
      "text/plain": [
       "<IPython.core.display.HTML object>"
      ]
     },
     "metadata": {},
     "output_type": "display_data"
    }
   ],
   "source": [
    "%%html\n",
    "<style>\n",
    "  table {margin-left: 0 !important;}\n",
    "  th {font-size: 15px}\n",
    "  td {font-size: 15px}\n",
    "</style>"
   ]
  },
  {
   "cell_type": "markdown",
   "metadata": {},
   "source": [
    "# Outlier Filtering Paradox"
   ]
  },
  {
   "cell_type": "markdown",
   "metadata": {},
   "source": [
    "Your product manager Tommy got an idea: what if Zalando's website background uses an image of a duck? \n",
    "\n",
    "After weeks of persuation, his manager yielded. Tommy went ahead and set up a standard experiment. Randomizated sampling works as expected. Two weeks later, the experiment finished. Now, join me to take a look at the duck's conversion rate!"
   ]
  },
  {
   "cell_type": "markdown",
   "metadata": {},
   "source": [
    "## Experiment data\n",
    "\n",
    "Let's first take a look at the orders in the control group, who saw a background image of Zalando models."
   ]
  },
  {
   "cell_type": "code",
   "execution_count": 2,
   "metadata": {},
   "outputs": [],
   "source": [
    "import numpy as np\n",
    "import matplotlib.pyplot as plt\n",
    "import pandas as pd\n",
    "\n",
    "# Make a util function for plots\n",
    "def plot(df, title):\n",
    "    plt.figure(figsize=(12, 4))\n",
    "    plt.subplot(121)\n",
    "    x = np.arange(df.size)\n",
    "    plt.plot(x, df)\n",
    "    plt.xlabel(\"Rank of User\")\n",
    "    plt.ylabel(\"Number of Orders\")\n",
    "    plt.title(title)\n",
    "    plt.subplot(122)\n",
    "    x = np.arange(df.size)\n",
    "    plt.plot(x, df)\n",
    "    plt.xlabel(\"Rank of User\")\n",
    "    plt.ylabel(\"Number of Orders\")\n",
    "    plt.xlim(df.size*0.88, df.size*1.01)\n",
    "    plt.title(title + \" (Zoom In)\")\n",
    "    plt.show()"
   ]
  },
  {
   "cell_type": "code",
   "execution_count": 3,
   "metadata": {},
   "outputs": [
    {
     "data": {
      "image/png": "[encoded data removed]",
      "text/plain": [
       "<Figure size 864x288 with 2 Axes>"
      ]
     },
     "metadata": {
      "needs_background": "light"
     },
     "output_type": "display_data"
    }
   ],
   "source": [
    "c = pd.read_csv(\"control_orders.csv\", squeeze=True)\n",
    "plot(c, \"Control: Zalando Models\")"
   ]
  },
  {
   "cell_type": "markdown",
   "metadata": {},
   "source": [
    "We observed that number of orders is highly zero-inflated. The majority of users didn't make any order. A small proportion of users made multiple orders during the experiment period. This observation is well aligned with what we know about order data from historical experiments. Perfectly expected data. No surprise here.\n",
    "\n",
    "Let's now fetch the data for treatment group who saw the image of a duck."
   ]
  },
  {
   "cell_type": "code",
   "execution_count": 4,
   "metadata": {},
   "outputs": [
    {
     "data": {
      "image/png": "[encoded data removed]",
      "text/plain": [
       "<Figure size 864x288 with 2 Axes>"
      ]
     },
     "metadata": {
      "needs_background": "light"
     },
     "output_type": "display_data"
    }
   ],
   "source": [
    "t = pd.read_csv(\"treatment_orders.csv\", squeeze=True)\n",
    "plot(t, \"Treatment: A Duck\")"
   ]
  },
  {
   "cell_type": "markdown",
   "metadata": {},
   "source": [
    "Also zero-inflated. Also expected behavior. \n",
    "\n",
    "Keeping in mind that conversion rate is defined as number of orders per user, let's check out the difference of treatment and control then!"
   ]
  },
  {
   "cell_type": "code",
   "execution_count": 5,
   "metadata": {},
   "outputs": [],
   "source": [
    "def output_uplift(c, t):\n",
    "    c_cr, t_cr = c.mean(), t.mean()\n",
    "    print(\"Uplift of conversion rate: {:+.2f}.\".format((t_cr - c_cr) * 100))"
   ]
  },
  {
   "cell_type": "code",
   "execution_count": 6,
   "metadata": {},
   "outputs": [
    {
     "name": "stdout",
     "output_type": "stream",
     "text": [
      "Uplift of conversion rate: +0.05.\n"
     ]
    }
   ],
   "source": [
    "output_uplift(c, t)"
   ]
  },
  {
   "cell_type": "markdown",
   "metadata": {},
   "source": [
    "From what we learned so far, a duck image helps Zalando to convert more!"
   ]
  },
  {
   "cell_type": "markdown",
   "metadata": {},
   "source": [
    "## Outlier filtering"
   ]
  },
  {
   "cell_type": "markdown",
   "metadata": {},
   "source": [
    "Right before the duck image is released to the whole population, Tommy's manager invited an Octopus member to double check the analysis. The Octopus member claimed that we need to do outlier filtering in the analysis. \n",
    "\n",
    "\"You see, these extremely large number of orders may come from administrative accounts or blindly loyal customers. A different background image won't affect their purchases, so we should filter them out.\" The Octopus member insisted.\n",
    "\n",
    "Tommy then took the advice and filterd out users who are above 99.9% quantile."
   ]
  },
  {
   "cell_type": "code",
   "execution_count": 7,
   "metadata": {},
   "outputs": [],
   "source": [
    "t999 = t.quantile(.999)\n",
    "c999 = c.quantile(.999)"
   ]
  },
  {
   "cell_type": "code",
   "execution_count": 8,
   "metadata": {},
   "outputs": [
    {
     "name": "stdout",
     "output_type": "stream",
     "text": [
      "Uplift of conversion rate: -0.05.\n"
     ]
    }
   ],
   "source": [
    "t_normal = t[t <= t999]\n",
    "c_normal = c[c <= c999]\n",
    "output_uplift(c_normal, t_normal)"
   ]
  },
  {
   "cell_type": "markdown",
   "metadata": {},
   "source": [
    "The treatment effect went from +0.05 to -0.05!  \n",
    "The result changes direction after outlier filtering.\n",
    "\n",
    "For this to happen, there must be larger numbers of orders from the outlier users in the treatment group. That's why removing them causes the control group start to perform better. With this hypothesis, let's compare the number of orders in the outlier users."
   ]
  },
  {
   "cell_type": "code",
   "execution_count": 9,
   "metadata": {},
   "outputs": [
    {
     "name": "stdout",
     "output_type": "stream",
     "text": [
      "Uplift of conversion rate: -136.53.\n"
     ]
    }
   ],
   "source": [
    "t_outliers = t[t > t999]\n",
    "c_outliers = c[c > c999]\n",
    "output_uplift(c_outliers, t_outliers)"
   ]
  },
  {
   "cell_type": "markdown",
   "metadata": {},
   "source": [
    "## What's going on?!\n",
    "Heck!? Emm... let's summarize what we got:"
   ]
  },
  {
   "cell_type": "markdown",
   "metadata": {},
   "source": [
    "| Conversion Rate          | Overall | Normal Users | Outlier Users |\n",
    "| ---------------          | --------| --------     |  --------     |\n",
    "| Treatment Effect Uplift  |   +0.05 |        -0.05 |       -136.53 |\n",
    "\n",
    "\n",
    "So we divided the samples into two subgroups: normal users who are below 99.9% quantile and outlier users who are above 99.9% quantile. Control group shows higher conversion rate in both subgroups; however, the treatment group shows overall higher conversion rate! \n",
    "\n",
    "It's worth pointing out that this is not an example of [Simpson's paradox](https://en.wikipedia.org/wiki/Simpson%27s_paradox), which occurs usually when the ratio of sample size in each subgroup are highly different. It's not the case here because we take the same quantile for control and treatment. So the ratio of sample size with and without outlier filtering should be very similar. \n",
    "\n",
    "Therefore, in our case of quantiles, we expect that the first number should be between other two!  "
   ]
  },
  {
   "cell_type": "markdown",
   "metadata": {},
   "source": [
    "----\n",
    "#### We can prove it mathmatically too\n",
    "\n",
    "Let $\\mu_c$ be the mean of control,   \n",
    "let $\\mu_c^n$ be the mean of normal users in control,    \n",
    "and $\\mu_c^o$ be the mean of outlier users in control.   \n",
    "The same notation $\\mu_t$, $\\mu_t^n$ and $\\mu_t^o$ apply for treatment.\n",
    "\n",
    "Further, we use $\\Delta$ to denote overall uplift,   \n",
    "$\\Delta^{n}$ to denote the uplift for normal users and   \n",
    "$\\Delta^{o}$ to denote the uplift for outlier users.\n",
    "\n",
    "Let $p \\in (0,1)$ be the p-percentile used in outlier filtering, which is 99.9% for us, \n",
    "\n",
    "then:\n",
    "\n",
    "$\\displaystyle\n",
    "\\begin{aligned}\n",
    "          \\mu_c &= (1-p) \\mu_c^{o} + p \\mu_c^{n} \\\\\n",
    "          \\mu_t &= (1-p) \\mu_t^{o} + p \\mu_t^{n} \n",
    "\\end{aligned}\n",
    "$\n",
    "\n",
    "by linearity:\n",
    "\n",
    "$\\displaystyle\n",
    "\\begin{aligned}\n",
    "  \\mu_t - \\mu_c &= (1-p) (\\mu_t^{o} - \\mu_c^{o}) + p (\\mu_t^{n} - \\mu_c^{n}) \\\\\n",
    "  \\Delta &= (1-p) \\Delta^{o} + p \\Delta^{n}\n",
    "\\end{aligned}\n",
    "$\n",
    "\n",
    "----"
   ]
  },
  {
   "cell_type": "markdown",
   "metadata": {},
   "source": [
    "Thus, the overall uplift $\\Delta$ is a weighted average of $\\Delta^{o}$ and $\\Delta^{n}$. In other words, it must be between the uplift of outlier users and the uplift of normal users. What is going on?"
   ]
  },
  {
   "cell_type": "markdown",
   "metadata": {},
   "source": [
    "## Quantile filtering on discrete values\n",
    "\n",
    "The devil is the discrete nature of number of orders -- they can only be non-negative integers. Multiple users can have the number of order which is at 99.9% quantile. These users cross the threshold, making it impossible to locate the exact position of 99.9% quantile. Let's confirm it by looking at the actual quantile value used in data."
   ]
  },
  {
   "cell_type": "code",
   "execution_count": 10,
   "metadata": {},
   "outputs": [
    {
     "name": "stdout",
     "output_type": "stream",
     "text": [
      "Actual quantile used for control: 0.9997\n",
      "Actual quantile used for treatment: 0.9993\n"
     ]
    }
   ],
   "source": [
    "print(\"Actual quantile used for control: {:.4f}\".format(c_normal.size / c.size))\n",
    "print(\"Actual quantile used for treatment: {:.4f}\".format(t_normal.size / t.size))"
   ]
  },
  {
   "cell_type": "markdown",
   "metadata": {},
   "source": [
    "Indeed, there are differences between the intended quantile 0.999 and the actual ones used. The next question is: does this small difference really cause the paradox described above? \n",
    "\n",
    "Since number of orders is non-negative integer, adding a tiny random noise to the data won't influence the mean value, but the random noise can make the discrete integers into continous values, making it possible to identify the exact position of 99.9% quantile."
   ]
  },
  {
   "cell_type": "code",
   "execution_count": 11,
   "metadata": {},
   "outputs": [],
   "source": [
    "def add_jitter(c, t):\n",
    "    # Add vectors of random noise in the range of -0.005 to 0.005\n",
    "    c_jitter = np.random.random(len(c)) * 0.01 - 0.005\n",
    "    t_jitter = np.random.random(len(t)) * 0.01 - 0.005\n",
    "    return c + c_jitter, t + t_jitter"
   ]
  },
  {
   "cell_type": "code",
   "execution_count": 12,
   "metadata": {},
   "outputs": [
    {
     "name": "stdout",
     "output_type": "stream",
     "text": [
      "Overall:\n",
      "Uplift of conversion rate: +0.05.\n",
      "Normal users:\n",
      "Uplift of conversion rate: +0.10.\n",
      "Outlier users:\n",
      "Uplift of conversion rate: -49.44.\n",
      "---\n",
      "Actual quantile used for noisy control: 0.9990\n",
      "Actual quantile used for noisy treatment: 0.9990\n"
     ]
    }
   ],
   "source": [
    "# Apply the same computation on the noisy data\n",
    "\n",
    "print(\"Overall:\")\n",
    "cj, tj = add_jitter(c, t)\n",
    "output_uplift(cj, tj)\n",
    "\n",
    "print(\"Normal users:\")\n",
    "tj999 = tj.quantile(.999)\n",
    "cj999 = cj.quantile(.999)\n",
    "tj_normal = tj[tj <= tj999]\n",
    "cj_normal = cj[cj <= cj999]\n",
    "output_uplift(cj_normal, tj_normal)\n",
    "\n",
    "print(\"Outlier users:\")\n",
    "tj_outliers = tj[tj > tj999]\n",
    "cj_outliers = cj[cj > cj999]\n",
    "output_uplift(cj_outliers, tj_outliers)\n",
    "\n",
    "print(\"---\")\n",
    "print(\"Actual quantile used for noisy control: {:.4f}\".format(cj_normal.size / cj.size))\n",
    "print(\"Actual quantile used for noisy treatment: {:.4f}\".format(tj_normal.size / tj.size))"
   ]
  },
  {
   "cell_type": "markdown",
   "metadata": {},
   "source": [
    "The result makes more sense on the noisy data! \n",
    "\n",
    "Putting it altogether we have the combined table for conversion rate results:\n",
    "    \n",
    "| Treatment effect uplift  | Overall | Normal users | Outlier users | Actual quantiles for outlier (c/t) |\n",
    "| ---------------          | --------| --------     |  --------     | -------                |\n",
    "| Original discrete data   |   +0.05 |        -0.05 |       -136.53 | 0.9997 / 0.9993        |\n",
    "| Data with random jitter  |   +0.05 |        +0.10 |       -49.44  | 0.9990 / 0.9990        |\n",
    "\n",
    "The paradoxical behavior in the original discrete data can now be fully explained by the actual quantiles used. In the original result, the two quantiles used in treatment and in control is different, thus there are less users filtered in the control group. This means that the effect of outlier mean has less influence on the overall mean in the control group, which breaks our belief that overall uplift is a weighted average. It becomes more clear if we take a look at the math."
   ]
  },
  {
   "cell_type": "markdown",
   "metadata": {},
   "source": [
    "-----\n",
    "Let the difference of the two actual p-percentiles be $\\Delta_p$, s.t. $p^{'} = p + \\Delta_p$, then: \n",
    "\n",
    "$\\displaystyle\n",
    "\\begin{aligned}\n",
    "          \\mu_c &= (1-p) \\mu_c^{o} + p \\mu_c^{n} \\\\\n",
    "          \\mu_t &= (1-p-\\Delta_p) \\mu_t^{o} + (p+\\Delta_p) \\mu_t^{n} \n",
    "\\end{aligned}\n",
    "$\n",
    "\n",
    "Subtract $\\mu_c$ from $\\mu_t$:\n",
    "\n",
    "$\\displaystyle\n",
    "\\begin{aligned}\n",
    "  \\mu_t - \\mu_c &= (1-p) (\\mu_t^{o} - \\mu_c^{o}) - \\Delta_p \\mu_t^o + p (\\mu_t^{n} - \\mu_c^{n}) + \\Delta_p \\mu_t^n \\\\\n",
    "  \\Delta &= (1-p) \\Delta^{o} + p \\Delta^{n} - \\Delta_p \\mu_t^o + \\Delta_p \\mu_t^n \\\\\n",
    "  \\Delta &= (1-p) \\Delta^{o} + p \\Delta^{n} + \\Delta_p (\\mu_t^n-\\mu_t^o) \n",
    "\\end{aligned}\n",
    "$\n",
    "\n",
    "-----"
   ]
  },
  {
   "cell_type": "markdown",
   "metadata": {},
   "source": [
    "## How the paradox occur\n",
    "\n",
    "As we can see from the last formula, the overall uplift $\\Delta$ is _not_ a weighted average of $\\Delta^{o}$ and $\\Delta^{n}$ anymore. The additional term $ \\Delta_p (\\mu_t^n-\\mu_t^o)$ breaks this property. Depends on **a)** how different $\\mu_t^n$ is from $\\mu_t^o$ and **b)** how large is $\\Delta_p$, it could lead to the paradoxical behavior in this notebook.\n",
    "\n",
    "Unfortunately, in the case of number of orders, both cases are very likely to be true.\n",
    "\n",
    "* $\\mu_t^n-\\mu_t^o$: Since number of orders is highly zero-inflated, the difference for 99.9% quantile outliers from the others must be significantly large.\n",
    "* $\\Delta_p$: Due to the narraw range of choices (e.g. from 1 to 15 orders in this data), there can be quite many users have the value at the 99.9% quantile. Therefore, the difference of actual quantiles used in treatment and control can be noticeable.\n",
    "\n",
    "This is how the paradox occur. It happens when applying quantile outlier filtering on discrete KPIs.   \n",
    "**And this is how a seemingly small (and often covert!) numerical problem causes a large bias.** "
   ]
  },
  {
   "cell_type": "markdown",
   "metadata": {},
   "source": [
    "##  The Octopus way: same outlier threshold for both variants\n",
    "\n",
    "Alternatively, one can do outlier filtering for the complete sample instead of per variant. \n",
    "\n",
    "\n",
    "That is to say, we use `all999 = c.append(t).quantile(.999)` as the threshold of outliers for both variants. In this way, we define the same kind of users as outliers for both variants. In fact, this is the approach used in Octopus currently. The advantage of this approach is that there is a consistent definition of what is an outlier; on the other hand, it will be bound to have different quantiles used for control and treatment.\n",
    "\n",
    "For simplicity, I won't copy the code again for the same computation filtered by `all999`. One can easily reproduce this result.\n",
    "\n",
    "| Treatment effect uplift| Overall | Normal users | Outlier users | Actual quantiles for outlier (c/t) |\n",
    "| --------------- | --------| -------- |  -------- | -------|\n",
    "| Original data (outlier threshold per variant) | +0.05 | -0.05 |-136.53 | 0.9997 / 0.9993 |\n",
    "| Original data (outlier threshold complete sample) | +0.05 | +0.17 |-1.68 | 0.9989 / 0.9993 |\n",
    "| Data with random jitter  |   +0.05 | +0.10 | -49.44  | 0.9990 / 0.9990 |\n",
    "\n",
    "\n",
    "The result using the outlier threshold for complete sample is not paradoxical for the example data here. But as we learned from the section [How the paradox occur](#How-the-paradox-occur), it can happen for other data when the addtional term $\\Delta_p (\\mu_t^n-\\mu_t^o)$ is big enough and in opposite direction of $\\Delta^{o}$ and $\\Delta^{n}$. \n",
    "\n",
    "Well, which number we should report to Tommy? The current Octopus system will give +0.17, but is there a better choice?"
   ]
  },
  {
   "cell_type": "markdown",
   "metadata": {},
   "source": [
    "## Conclusion and next step\n",
    "\n",
    "This article demonstrates an outlier filtering paradox in A/B testing. The cause of this paradox is proved to be using quantile outlier filtering on discrete KPIs. The paradoxical behavior suggests that the result after outlier filtering might be biased.\n",
    "\n",
    "Most of the primary KPIs used in Zalando have  discrete nature in them. For example, conversion rate as number of orders per user, click-through rate as number of clicks per user, number of visits in the last 28 days, etc.\n",
    "\n",
    "With the problem described in the notebook, it's likely that Octopus has produced many biased results on these discrete KPIs after outlier filtering. Unless we know what we are doing, I am now strongly inclined to say that **outlier filtering in A/B testing is very dangerous**. \n",
    "\n",
    "Even though the approach used in this notebook, adding random jitter to discrete data, solves the numerical problem, it doesn't have a logical semantics -- it's strange in that for users who have the KPI value at outlier threshold, some will be filtered out and some will be kept for analysis.\n",
    "\n",
    "The next step is to think about **why we do outlier filtering**. We should consider whether its necessary to filter outliers at all. If we do, under what circumstances we should filter outliers? For example, outlier filtering is a way to deal with data that has a power law distribution without a well-defined mean. Does this situation apply in Zalando? Follow-up research is needed in this topic."
   ]
  }
 ],
 "metadata": {
  "kernelspec": {
   "display_name": "Python 3",
   "language": "python",
   "name": "python3"
  },
  "language_info": {
   "codemirror_mode": {
    "name": "ipython",
    "version": 3
   },
   "file_extension": ".py",
   "mimetype": "text/x-python",
   "name": "python",
   "nbconvert_exporter": "python",
   "pygments_lexer": "ipython3",
   "version": "3.7.4"
  }
 },
 "nbformat": 4,
 "nbformat_minor": 2
}
