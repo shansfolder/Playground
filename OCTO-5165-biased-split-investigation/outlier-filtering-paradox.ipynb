{
 "cells": [
  {
   "cell_type": "code",
   "execution_count": 1,
   "metadata": {},
   "outputs": [
    {
     "data": {
      "text/html": [
       "<style>\n",
       "  table {margin-left: 0 !important;}\n",
       "  th {font-size: 15px}\n",
       "  td {font-size: 15px}\n",
       "</style>\n"
      ],
      "text/plain": [
       "<IPython.core.display.HTML object>"
      ]
     },
     "metadata": {},
     "output_type": "display_data"
    }
   ],
   "source": [
    "%%html\n",
    "<style>\n",
    "  table {margin-left: 0 !important;}\n",
    "  th {font-size: 15px}\n",
    "  td {font-size: 15px}\n",
    "</style>"
   ]
  },
  {
   "cell_type": "markdown",
   "metadata": {},
   "source": [
    "# Outlier Filtering Paradox\n",
    "\n",
    "Your product manager Tommy got an idea: what if Zalando's website background uses an image of a duck? \n",
    "\n",
    "\"Only 30% traffic!\" After weeks of persuation, his manager yielded. Well, that's good enough. In fact, Octopus already supports unequal weights of assignment traffic. Tommy went ahead and set up a 30/70 experiment. Randomizated sampling works as expected. Two weeks later, the experiment finished. \n",
    "\n",
    "Now, join me to take a look at the duck's conversion rate!"
   ]
  },
  {
   "cell_type": "markdown",
   "metadata": {},
   "source": [
    "## Experiment Data\n",
    "\n",
    "Let's first take a look at the orders in the control group, who saw a background image of Zalando models."
   ]
  },
  {
   "cell_type": "code",
   "execution_count": 2,
   "metadata": {},
   "outputs": [],
   "source": [
    "import numpy as np\n",
    "import matplotlib.pyplot as plt\n",
    "import pandas as pd\n",
    "\n",
    "# Make a util function for plots\n",
    "def plot(df, title):\n",
    "    plt.figure(figsize=(12, 4))\n",
    "    plt.subplot(121)\n",
    "    x = np.arange(df.size)\n",
    "    plt.plot(x, df)\n",
    "    plt.xlabel(\"Rank of User\")\n",
    "    plt.ylabel(\"Number of Orders\")\n",
    "    plt.title(title)\n",
    "    plt.subplot(122)\n",
    "    x = np.arange(df.size)\n",
    "    plt.plot(x, df)\n",
    "    plt.xlabel(\"Rank of User\")\n",
    "    plt.ylabel(\"Number of Orders\")\n",
    "    plt.xlim(df.size*0.88, df.size*1.01)\n",
    "    plt.title(title + \" (Zoom In)\")\n",
    "    plt.show()"
   ]
  },
  {
   "cell_type": "code",
   "execution_count": 3,
   "metadata": {},
   "outputs": [
    {
     "data": {
      "image/png": "[encoded data removed]",
      "text/plain": [
       "<Figure size 864x288 with 2 Axes>"
      ]
     },
     "metadata": {
      "needs_background": "light"
     },
     "output_type": "display_data"
    }
   ],
   "source": [
    "c = pd.read_csv(\"control_orders.csv\", squeeze=True)\n",
    "plot(c, \"Control: Zalando Models\")"
   ]
  },
  {
   "cell_type": "markdown",
   "metadata": {},
   "source": [
    "We observed that number of orders is highly zero-inflated. The majority of users didn't make any order. A small proportion of users made multiple orders during the experiment period. This observation is well aligned with what we know about order data from historical experiments. Perfectly expected data. No surprise here.\n",
    "\n",
    "Let's now fetch the data for treatment group who saw the image of a duck."
   ]
  },
  {
   "cell_type": "code",
   "execution_count": 4,
   "metadata": {},
   "outputs": [
    {
     "data": {
      "image/png": "[encoded data removed]",
      "text/plain": [
       "<Figure size 864x288 with 2 Axes>"
      ]
     },
     "metadata": {
      "needs_background": "light"
     },
     "output_type": "display_data"
    }
   ],
   "source": [
    "t = pd.read_csv(\"treatment_orders.csv\", squeeze=True)\n",
    "plot(t, \"Treatment: A Duck\")"
   ]
  },
  {
   "cell_type": "markdown",
   "metadata": {},
   "source": [
    "Also zero-inflated. Also expected behavior. \n",
    "\n",
    "Keeping in mind that conversion rate is defined as number of orders per user, let's check out the difference of treatment and control then!"
   ]
  },
  {
   "cell_type": "code",
   "execution_count": 5,
   "metadata": {},
   "outputs": [],
   "source": [
    "def output_uplift(c, t):\n",
    "    c_cr, t_cr = c.mean(), t.mean()\n",
    "    print(\"Uplift of conversion rate: {:+.2f}.\".format((t_cr - c_cr) * 100))"
   ]
  },
  {
   "cell_type": "code",
   "execution_count": 6,
   "metadata": {},
   "outputs": [
    {
     "name": "stdout",
     "output_type": "stream",
     "text": [
      "Uplift of conversion rate: +0.05.\n"
     ]
    }
   ],
   "source": [
    "output_uplift(c, t)"
   ]
  },
  {
   "cell_type": "markdown",
   "metadata": {},
   "source": [
    "From what we learned so far, a duck image helps Zalando to convert more!"
   ]
  },
  {
   "cell_type": "markdown",
   "metadata": {},
   "source": [
    "## Outlier Filtering"
   ]
  },
  {
   "cell_type": "markdown",
   "metadata": {},
   "source": [
    "Right before the duck image is released to the whole population, Tommy's manager invited an Octopus member to double check the analysis. The Octopus member claimed that we need to do outlier filtering in the analysis. \n",
    "\n",
    "\"You see, these extremely large number of orders may come from administrative accounts or blindly loyal customers. A different background image won't affect their purchases, so we should filter them out.\" The Octopus member insisted.\n",
    "\n",
    "Tommy then took the advice and filterd out users who are above 99.9% quantile."
   ]
  },
  {
   "cell_type": "code",
   "execution_count": 7,
   "metadata": {},
   "outputs": [],
   "source": [
    "t999 = t.quantile(.999)\n",
    "c999 = c.quantile(.999)"
   ]
  },
  {
   "cell_type": "code",
   "execution_count": 8,
   "metadata": {},
   "outputs": [
    {
     "name": "stdout",
     "output_type": "stream",
     "text": [
      "Uplift of conversion rate: -0.05.\n"
     ]
    }
   ],
   "source": [
    "t_normal = t[t <= t999]\n",
    "c_normal = c[c <= c999]\n",
    "output_uplift(c_normal, t_normal)"
   ]
  },
  {
   "cell_type": "markdown",
   "metadata": {},
   "source": [
    "The treatment effect went from +0.05 to -0.05!  \n",
    "The result changes direction after outlier filtering.\n",
    "\n",
    "For this to happen, there must be larger numbers of orders from the outlier users in the treatment group. That's why removing them causes the control group start to perform better. With this hypothesis, let's compare the number of orders in the outlier users."
   ]
  },
  {
   "cell_type": "code",
   "execution_count": 9,
   "metadata": {},
   "outputs": [
    {
     "name": "stdout",
     "output_type": "stream",
     "text": [
      "Uplift of conversion rate: -136.45.\n"
     ]
    }
   ],
   "source": [
    "t_outliers = t[t > t999]\n",
    "c_outliers = c[c > c999]\n",
    "output_uplift(c_outliers, t_outliers)"
   ]
  },
  {
   "cell_type": "markdown",
   "metadata": {},
   "source": [
    "## What's Going On?!?!\n",
    "Heck!? Emm... let's summarize what we got:"
   ]
  },
  {
   "cell_type": "markdown",
   "metadata": {},
   "source": [
    "| Conversion Rate          | Overall | Normal Users | Outlier Users |\n",
    "| ---------------          | --------| --------     |  --------     |\n",
    "| Treatment Effect Uplift  |   +0.05 |        -0.05 |       -136.45 |\n",
    "\n",
    "\n",
    "So we divided the samples into two subgroups: normal users who are below 99.9% quantile and outlier users who are above 99.9% quantile. Control group shows higher conversion rate in both subgroups; however, the treatment group shows overall higher conversion rate! \n",
    "\n",
    "It's worth pointing out that this is not an example of [Simpson's paradox](https://en.wikipedia.org/wiki/Simpson%27s_paradox), which occurs usually when the ratio of sample size in each subgroup are highly different. It's not the case here because we take the same quantile for control and treatment. So the ratio of sample size with and without outlier filtering should be very similar. \n",
    "\n",
    "Therefore, in our case of quantiles, we expect that the first number should be between other two!  "
   ]
  },
  {
   "cell_type": "markdown",
   "metadata": {},
   "source": [
    "----\n",
    "#### We can prove it mathmatically too\n",
    "\n",
    "Let $\\mu_c$ be the mean of control,   \n",
    "let $\\mu_c^n$ be the mean of normal users in control,    \n",
    "and $\\mu_c^o$ be the mean of outlier users in control.   \n",
    "The same notation $\\mu_t$, $\\mu_t^n$ and $\\mu_t^o$ apply for treatment.\n",
    "\n",
    "Further, we use $\\Delta$ to denote overall uplift,   \n",
    "$\\Delta^{n}$ to denote the uplift for normal users and   \n",
    "$\\Delta^{o}$ to denote the uplift for outliers users.\n",
    "\n",
    "Let $p$ be the p-percentile used in outlier filtering, which is 99.9% for us.\n",
    "\n",
    "\n",
    "Then,\n",
    "\n",
    "$\\displaystyle\n",
    "\\begin{aligned}\n",
    "          \\mu_c &= (1-p) \\mu_c^{o} + p \\mu_c^{n} \\\\\n",
    "          \\mu_t &= (1-p) \\mu_t^{o} + p \\mu_t^{n} \n",
    "\\end{aligned}\n",
    "$\n",
    "\n",
    "By linearity,\n",
    "\n",
    "$\\displaystyle\n",
    "\\begin{aligned}\n",
    "  \\mu_t - \\mu_c &= (1-p) (\\mu_t^{o} - \\mu_c^{o}) + p (\\mu_t^{n} - \\mu_c^{n}) \\\\\n",
    "  \\Delta &= (1-p) \\Delta^{o} + p \\Delta^{n}\n",
    "\\end{aligned}\n",
    "$\n",
    "\n",
    "----"
   ]
  },
  {
   "cell_type": "markdown",
   "metadata": {},
   "source": [
    "Thus, the overall uplift must be between the uplift of outlier users and the uplift of normal users. \n",
    "\n",
    "What is going on? :)"
   ]
  }
 ],
 "metadata": {
  "kernelspec": {
   "display_name": "Python 3",
   "language": "python",
   "name": "python3"
  },
  "language_info": {
   "codemirror_mode": {
    "name": "ipython",
    "version": 3
   },
   "file_extension": ".py",
   "mimetype": "text/x-python",
   "name": "python",
   "nbconvert_exporter": "python",
   "pygments_lexer": "ipython3",
   "version": "3.7.4"
  }
 },
 "nbformat": 4,
 "nbformat_minor": 2
}
